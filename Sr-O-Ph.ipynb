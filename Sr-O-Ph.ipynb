{
 "cells": [
  {
   "cell_type": "markdown",
   "metadata": {},
   "source": [
    "Tabulating and calculating relevant values for Sr-O-Ph molecule. Based on the experimental data from https://arxiv.org/pdf/2209.13025.pdf."
   ]
  },
  {
   "cell_type": "markdown",
   "metadata": {},
   "source": [
    "### Transitions wavelengths in wavenumbers (1/cm)"
   ]
  },
  {
   "cell_type": "code",
   "execution_count": 1,
   "metadata": {},
   "outputs": [],
   "source": [
    "# To the vibrational ground state\n",
    "XA_w = 14950.0 \n",
    "XB_w = 15255.1\n",
    "\n",
    "# Vibrational state separations\n",
    "v1 = 54 #  low-frequency bending mode\n",
    "v3 = 238 # strongest offdiagonal stretching mode"
   ]
  }
 ],
 "metadata": {
  "kernelspec": {
   "display_name": "base",
   "language": "python",
   "name": "python3"
  },
  "language_info": {
   "codemirror_mode": {
    "name": "ipython",
    "version": 3
   },
   "file_extension": ".py",
   "mimetype": "text/x-python",
   "name": "python",
   "nbconvert_exporter": "python",
   "pygments_lexer": "ipython3",
   "version": "3.8.10"
  }
 },
 "nbformat": 4,
 "nbformat_minor": 2
}
