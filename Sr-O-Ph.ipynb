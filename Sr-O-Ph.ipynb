{
 "cells": [
  {
   "cell_type": "markdown",
   "metadata": {},
   "source": [
    "Tabulating and calculating relevant values for Sr-O-Ph molecule. Based on the experimental data from https://arxiv.org/pdf/2209.13025.pdf."
   ]
  },
  {
   "cell_type": "markdown",
   "metadata": {},
   "source": [
    "### Transitions wavelengths in wavenumbers (1/cm)"
   ]
  },
  {
   "cell_type": "code",
   "execution_count": 1,
   "metadata": {},
   "outputs": [],
   "source": [
    "# To the vibrational ground state\n",
    "XA_wn = 14950.0 \n",
    "XB_wn = 15255.1\n",
    "\n",
    "# Vibrational state separations\n",
    "v1 = 54 #  low-frequency bending mode\n",
    "v3 = 238 # strongest offdiagonal stretching mode"
   ]
  },
  {
   "cell_type": "markdown",
   "metadata": {},
   "source": [
    "### Transition wavelength in nanometers"
   ]
  },
  {
   "cell_type": "code",
   "execution_count": 2,
   "metadata": {},
   "outputs": [],
   "source": [
    "XAv0 = 1e7/XA_wn\n",
    "XBv0 = 1e7/XB_wn\n",
    "XAv1 = 1e7/(XA_wn-v1)\n",
    "XAv3 = 1e7/(XA_wn-v3)\n",
    "XBv1 = 1e7/(XB_wn-v1)\n",
    "XBv3 = 1e7/(XB_wn-v3)"
   ]
  },
  {
   "cell_type": "code",
   "execution_count": 3,
   "metadata": {},
   "outputs": [
    {
     "name": "stdout",
     "output_type": "stream",
     "text": [
      "XA 668.8963210702341 671.3211600429646 679.7172376291463 nm\n",
      "XB 655.5184823436097 657.8471294840505 665.9075320800954 nm\n"
     ]
    }
   ],
   "source": [
    "print(\"XA\", XAv0, XAv1, XAv3, \"nm\")\n",
    "print(\"XB\", XBv0, XBv1, XBv3, \"nm\")"
   ]
  },
  {
   "cell_type": "markdown",
   "metadata": {},
   "source": [
    "### Branching ratios"
   ]
  },
  {
   "cell_type": "code",
   "execution_count": 4,
   "metadata": {},
   "outputs": [],
   "source": [
    "bA0, bA1, bA3 = 0.845, 0.029, 0.079\n",
    "bB0, bB1, bB3 = 0.885, 0.054, 0.060"
   ]
  },
  {
   "cell_type": "markdown",
   "metadata": {},
   "source": [
    "### Lifetime in nanoseconds"
   ]
  },
  {
   "cell_type": "code",
   "execution_count": 5,
   "metadata": {},
   "outputs": [],
   "source": [
    "tau_A = 26.9\n",
    "tau_B = 31.4"
   ]
  },
  {
   "cell_type": "markdown",
   "metadata": {},
   "source": [
    "### Spontaneous emission rate in MHz"
   ]
  },
  {
   "cell_type": "code",
   "execution_count": 6,
   "metadata": {},
   "outputs": [],
   "source": [
    "import numpy as np\n",
    "\n",
    "Gamma_A = 1e3/(tau_A*2*np.pi)\n",
    "Gamma_B = 1e3/(tau_B*2*np.pi)"
   ]
  },
  {
   "cell_type": "code",
   "execution_count": 7,
   "metadata": {},
   "outputs": [
    {
     "data": {
      "text/plain": [
       "(5.916540635386444, 5.068628760888387, 'MHz')"
      ]
     },
     "execution_count": 7,
     "metadata": {},
     "output_type": "execute_result"
    }
   ],
   "source": [
    "Gamma_A, Gamma_B, 'MHz'"
   ]
  },
  {
   "cell_type": "code",
   "execution_count": 8,
   "metadata": {},
   "outputs": [
    {
     "data": {
      "text/plain": [
       "(4.999476836901545, 0.1715796784262069, 0.4674067101955291)"
      ]
     },
     "execution_count": 8,
     "metadata": {},
     "output_type": "execute_result"
    }
   ],
   "source": [
    "Gamma_A0 = Gamma_A*bA0\n",
    "Gamma_A1 = Gamma_A*bA1\n",
    "Gamma_A3 = Gamma_A*bA3\n",
    "\n",
    "Gamma_A0, Gamma_A1, Gamma_A3"
   ]
  },
  {
   "cell_type": "code",
   "execution_count": 9,
   "metadata": {},
   "outputs": [
    {
     "data": {
      "text/plain": [
       "(4.485736453386223, 0.2737059530879729, 0.30411772565330325)"
      ]
     },
     "execution_count": 9,
     "metadata": {},
     "output_type": "execute_result"
    }
   ],
   "source": [
    "Gamma_B0 = Gamma_B*bB0\n",
    "Gamma_B1 = Gamma_B*bB1\n",
    "Gamma_B3 = Gamma_B*bB3\n",
    "\n",
    "Gamma_B0, Gamma_B1, Gamma_B3"
   ]
  },
  {
   "cell_type": "markdown",
   "metadata": {},
   "source": [
    "### Saturation intensity"
   ]
  },
  {
   "cell_type": "markdown",
   "metadata": {},
   "source": [
    "The saturation intensity is defined by\n",
    "\n",
    " $I_s = \\dfrac{\\pi}{3}\\dfrac{hc}{\\lambda^3\\tau}=\\dfrac{\\pi}{3}\\dfrac{hc\\Gamma}{\\lambda^3}$.\n",
    "\n",
    " ALso, instead of using the fundamental constants, it can be calculated using the known $I_s$ and the wavelength if different element (e.g., 87Rb):\n",
    "\n",
    "$I_1 = I_2\\left(\\dfrac{\\lambda_1}{\\lambda_2}\\right)^3\\dfrac{\\tau_1}{\\tau_2}$"
   ]
  },
  {
   "cell_type": "code",
   "execution_count": 10,
   "metadata": {},
   "outputs": [],
   "source": [
    "h = 6.6260687652*1e-34 # J*s\n",
    "c = 2.99792458*1e8 # m/s"
   ]
  },
  {
   "cell_type": "code",
   "execution_count": 11,
   "metadata": {},
   "outputs": [],
   "source": [
    "I_A0 = bA0*(h*c/(tau_A*1e-9))*(XAv0*1e-9)**(-3)*np.pi/3 # W/m^2\n",
    "I_A1 = bA1*(h*c/(tau_A*1e-9))*(XAv1*1e-9)**(-3)*np.pi/3 # W/m^2\n",
    "I_A3 = bA3*(h*c/(tau_A*1e-9))*(XAv3*1e-9)**(-3)*np.pi/3 # W/m^2\n"
   ]
  },
  {
   "cell_type": "code",
   "execution_count": 12,
   "metadata": {},
   "outputs": [
    {
     "data": {
      "text/plain": [
       "(2.1833998015626124, 0.07412419132786838, 0.1945338668391806, 'mW/cm2')"
      ]
     },
     "execution_count": 12,
     "metadata": {},
     "output_type": "execute_result"
    }
   ],
   "source": [
    "I_A0/10, I_A1/10, I_A3/10, \"mW/cm2\"\n"
   ]
  },
  {
   "cell_type": "code",
   "execution_count": 13,
   "metadata": {},
   "outputs": [
    {
     "data": {
      "text/plain": [
       "(2.4296371913758223, 0.1466802992890996, 0.1571312076274592, 'mW/cm2')"
      ]
     },
     "execution_count": 13,
     "metadata": {},
     "output_type": "execute_result"
    }
   ],
   "source": [
    "I_B0 = bB0*(h*c/(tau_A*1e-9))*(XBv0*1e-9)**(-3)*np.pi/3 # W/m^2\n",
    "I_B1 = bB1*(h*c/(tau_A*1e-9))*(XBv1*1e-9)**(-3)*np.pi/3 # W/m^2\n",
    "I_B3 = bB3*(h*c/(tau_A*1e-9))*(XBv3*1e-9)**(-3)*np.pi/3 # W/m^2\n",
    "I_B0/10, I_B1/10, I_B3/10, \"mW/cm2\""
   ]
  },
  {
   "cell_type": "markdown",
   "metadata": {},
   "source": [
    "### Put I_sat and Gamma for a particular trasition into a dictionary"
   ]
  },
  {
   "cell_type": "code",
   "execution_count": 26,
   "metadata": {},
   "outputs": [],
   "source": [
    "A0 = {'I':I_A0 , 'Gamma': Gamma_A0}\n",
    "A1 = {'I':I_A1 , 'Gamma': Gamma_A1}\n",
    "A3= {'I':I_A3 , 'Gamma': Gamma_A3}\n",
    "\n",
    "B0 = {'I':I_B0 , 'Gamma': Gamma_B0}\n",
    "B1 = {'I':I_B1 , 'Gamma': Gamma_B1}\n",
    "B3= {'I':I_B3 , 'Gamma': Gamma_B3}"
   ]
  },
  {
   "cell_type": "code",
   "execution_count": 17,
   "metadata": {},
   "outputs": [
    {
     "data": {
      "text/plain": [
       "4.999476836901545"
      ]
     },
     "execution_count": 17,
     "metadata": {},
     "output_type": "execute_result"
    }
   ],
   "source": [
    "A0['Gamma']"
   ]
  },
  {
   "cell_type": "markdown",
   "metadata": {},
   "source": [
    "# Calculate the Rabi frequency as a function of Intensity"
   ]
  },
  {
   "cell_type": "code",
   "execution_count": 22,
   "metadata": {},
   "outputs": [],
   "source": [
    "d = 1e-3 # beam diameter in meters\n",
    "S = np.pi*d**2/4\n",
    "P = np.linspace(0,100,10000)*1e-3 # Laser power in W\n",
    "I = P/S # Laser intensity in W/m^2"
   ]
  },
  {
   "cell_type": "code",
   "execution_count": 29,
   "metadata": {},
   "outputs": [],
   "source": [
    "def Rabi(I, Dict):\n",
    "    ISAT = Dict[\"I\"]\n",
    "    GAMMA = Dict[\"Gamma\"]\n",
    "    return GAMMA*np.sqrt(0.5*I/ISAT)\n",
    "    "
   ]
  },
  {
   "cell_type": "code",
   "execution_count": 30,
   "metadata": {},
   "outputs": [],
   "source": [
    "# Calculate the Rabi frequency for each transition\n",
    "W_A0 = Rabi(I,A0)\n",
    "W_A1 = Rabi(I,A1)\n",
    "W_A3 = Rabi(I,A3)\n"
   ]
  },
  {
   "cell_type": "code",
   "execution_count": null,
   "metadata": {},
   "outputs": [],
   "source": []
  }
 ],
 "metadata": {
  "kernelspec": {
   "display_name": "base",
   "language": "python",
   "name": "python3"
  },
  "language_info": {
   "codemirror_mode": {
    "name": "ipython",
    "version": 3
   },
   "file_extension": ".py",
   "mimetype": "text/x-python",
   "name": "python",
   "nbconvert_exporter": "python",
   "pygments_lexer": "ipython3",
   "version": "3.9.12"
  }
 },
 "nbformat": 4,
 "nbformat_minor": 2
}
