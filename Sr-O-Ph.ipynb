{
 "cells": [
  {
   "cell_type": "markdown",
   "metadata": {},
   "source": [
    "Tabulating and calculating relevant values for Sr-O-Ph molecule. Based on the experimental data from https://arxiv.org/pdf/2209.13025.pdf."
   ]
  },
  {
   "cell_type": "markdown",
   "metadata": {},
   "source": [
    "### Transitions wavelengths in wavenumbers (1/cm)"
   ]
  },
  {
   "cell_type": "code",
   "execution_count": 16,
   "metadata": {},
   "outputs": [],
   "source": [
    "# To the vibrational ground state\n",
    "XA_wn = 14950.0 \n",
    "XB_wn = 15255.1\n",
    "\n",
    "# Vibrational state separations\n",
    "v1 = 54 #  low-frequency bending mode\n",
    "v3 = 238 # strongest offdiagonal stretching mode"
   ]
  },
  {
   "cell_type": "markdown",
   "metadata": {},
   "source": [
    "### Transition wavelength in nanometers"
   ]
  },
  {
   "cell_type": "code",
   "execution_count": 17,
   "metadata": {},
   "outputs": [],
   "source": [
    "XAv0 = 1e7/XA_wn\n",
    "XBv0 = 1e7/XB_wn\n",
    "XAv1 = 1e7/(XA_wn-v1)\n",
    "XAv3 = 1e7/(XA_wn-v3)\n",
    "XBv1 = 1e7/(XB_wn-v1)\n",
    "XBv3 = 1e7/(XB_wn-v3)"
   ]
  },
  {
   "cell_type": "code",
   "execution_count": 18,
   "metadata": {},
   "outputs": [
    {
     "name": "stdout",
     "output_type": "stream",
     "text": [
      "XA 668.8963210702341 671.3211600429646 679.7172376291463 nm\n",
      "XB 655.5184823436097 657.8471294840505 665.9075320800954 nm\n"
     ]
    }
   ],
   "source": [
    "print(\"XA\", XAv0, XAv1, XAv3, \"nm\")\n",
    "print(\"XB\", XBv0, XBv1, XBv3, \"nm\")"
   ]
  },
  {
   "cell_type": "markdown",
   "metadata": {},
   "source": [
    "### Branching ratios"
   ]
  },
  {
   "cell_type": "code",
   "execution_count": 19,
   "metadata": {},
   "outputs": [],
   "source": [
    "bA0, bA1, bA3 = 0.845, 0.029, 0.079\n",
    "bB0, bB1, bB3 = 0.885, 0.054, 0.060"
   ]
  },
  {
   "cell_type": "markdown",
   "metadata": {},
   "source": [
    "### Lifetime in nanoseconds"
   ]
  },
  {
   "cell_type": "code",
   "execution_count": 21,
   "metadata": {},
   "outputs": [],
   "source": [
    "tau_A = 26.9\n",
    "tau_B = 31.4"
   ]
  },
  {
   "cell_type": "markdown",
   "metadata": {},
   "source": [
    "### Spontaneous emission rate in MHz"
   ]
  },
  {
   "cell_type": "code",
   "execution_count": 27,
   "metadata": {},
   "outputs": [],
   "source": [
    "import numpy as np\n",
    "\n",
    "Gamma_A = 1e3/(tau_A*2*np.pi)\n",
    "Gamma_B = 1e3/(tau_B*2*np.pi)"
   ]
  },
  {
   "cell_type": "code",
   "execution_count": 29,
   "metadata": {},
   "outputs": [
    {
     "data": {
      "text/plain": [
       "(5.916540635386444, 5.068628760888387, 'MHz')"
      ]
     },
     "execution_count": 29,
     "metadata": {},
     "output_type": "execute_result"
    }
   ],
   "source": [
    "Gamma_A, Gamma_B, 'MHz'"
   ]
  }
 ],
 "metadata": {
  "kernelspec": {
   "display_name": "base",
   "language": "python",
   "name": "python3"
  },
  "language_info": {
   "codemirror_mode": {
    "name": "ipython",
    "version": 3
   },
   "file_extension": ".py",
   "mimetype": "text/x-python",
   "name": "python",
   "nbconvert_exporter": "python",
   "pygments_lexer": "ipython3",
   "version": "3.8.10"
  }
 },
 "nbformat": 4,
 "nbformat_minor": 2
}
